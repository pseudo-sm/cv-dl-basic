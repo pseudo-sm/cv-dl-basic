{
  "nbformat": 4,
  "nbformat_minor": 0,
  "metadata": {
    "colab": {
      "name": "Torch-MNIST.ipynb",
      "provenance": [],
      "collapsed_sections": [],
      "authorship_tag": "ABX9TyOYzkmZ/3RiRJtxmmIDRQfp",
      "include_colab_link": true
    },
    "kernelspec": {
      "name": "python3",
      "display_name": "Python 3"
    },
    "language_info": {
      "name": "python"
    }
  },
  "cells": [
    {
      "cell_type": "markdown",
      "metadata": {
        "id": "view-in-github",
        "colab_type": "text"
      },
      "source": [
        "<a href=\"https://colab.research.google.com/github/pseudo-sm/cv-dl-basic/blob/master/Torch_MNIST.ipynb\" target=\"_parent\"><img src=\"https://colab.research.google.com/assets/colab-badge.svg\" alt=\"Open In Colab\"/></a>"
      ]
    },
    {
      "cell_type": "code",
      "execution_count": 1,
      "metadata": {
        "id": "35s0dCAxUfSD"
      },
      "outputs": [],
      "source": [
        "import torch"
      ]
    },
    {
      "cell_type": "code",
      "source": [
        "import pandas as pd"
      ],
      "metadata": {
        "id": "VO_TUa61bgEb"
      },
      "execution_count": 2,
      "outputs": []
    },
    {
      "cell_type": "code",
      "source": [
        "x = torch.tensor(3.5,requires_grad=True)"
      ],
      "metadata": {
        "id": "l4m1N_jVU0sx"
      },
      "execution_count": 2,
      "outputs": []
    },
    {
      "cell_type": "code",
      "source": [
        "y = (x-1)*(x-2)*(x-3)"
      ],
      "metadata": {
        "id": "hM5krskfU58n"
      },
      "execution_count": 3,
      "outputs": []
    },
    {
      "cell_type": "code",
      "source": [
        "y"
      ],
      "metadata": {
        "colab": {
          "base_uri": "https://localhost:8080/"
        },
        "id": "iJ57UGlJU8o7",
        "outputId": "d8167354-eebd-494a-f573-0e499a46be64"
      },
      "execution_count": 4,
      "outputs": [
        {
          "output_type": "execute_result",
          "data": {
            "text/plain": [
              "tensor(1.8750, grad_fn=<MulBackward0>)"
            ]
          },
          "metadata": {},
          "execution_count": 4
        }
      ]
    },
    {
      "cell_type": "code",
      "source": [
        "y.backward()"
      ],
      "metadata": {
        "id": "_TgyuTGCU9j_"
      },
      "execution_count": 5,
      "outputs": []
    },
    {
      "cell_type": "code",
      "source": [
        "x.grad"
      ],
      "metadata": {
        "colab": {
          "base_uri": "https://localhost:8080/"
        },
        "id": "_AR89-EIVCVk",
        "outputId": "ed6875be-79d1-4fa8-acf7-f70f451d4f66"
      },
      "execution_count": 6,
      "outputs": [
        {
          "output_type": "execute_result",
          "data": {
            "text/plain": [
              "tensor(5.7500)"
            ]
          },
          "metadata": {},
          "execution_count": 6
        }
      ]
    },
    {
      "cell_type": "code",
      "source": [
        "from keras.datasets import mnist"
      ],
      "metadata": {
        "id": "qnF_0quhVMRs"
      },
      "execution_count": 7,
      "outputs": []
    },
    {
      "cell_type": "code",
      "source": [
        "(train_X, train_y), (test_X, test_y) = mnist.load_data()\n"
      ],
      "metadata": {
        "id": "FSC34teWXcAU"
      },
      "execution_count": 18,
      "outputs": []
    },
    {
      "cell_type": "code",
      "source": [
        "row = 15\n",
        "image = train_X[row]\n",
        "label = train_y[row]\n",
        "plt.title(label)\n",
        "plt.imshow(image,cmap='Blues',interpolation='none')\n",
        "plt.show()"
      ],
      "metadata": {
        "colab": {
          "base_uri": "https://localhost:8080/",
          "height": 281
        },
        "id": "a9a18M29Xd8K",
        "outputId": "3d53d118-deb8-4492-c37e-bcee0dc44f33"
      },
      "execution_count": 23,
      "outputs": [
        {
          "output_type": "display_data",
          "data": {
            "text/plain": [
              "<Figure size 432x288 with 1 Axes>"
            ],
            "image/png": "[encoded data removed]"
          },
          "metadata": {
            "needs_background": "light"
          }
        }
      ]
    },
    {
      "cell_type": "code",
      "source": [
        "import matplotlib.pyplot as plt"
      ],
      "metadata": {
        "id": "tyvc9VcDXhRH"
      },
      "execution_count": 3,
      "outputs": []
    },
    {
      "cell_type": "code",
      "source": [
        "import torch\n",
        "import torch.nn as nn"
      ],
      "metadata": {
        "id": "r3FlLXejXoym"
      },
      "execution_count": 4,
      "outputs": []
    },
    {
      "cell_type": "code",
      "source": [
        "from torch.utils.data import Dataset"
      ],
      "metadata": {
        "id": "828L3vmvdwdx"
      },
      "execution_count": 5,
      "outputs": []
    },
    {
      "cell_type": "code",
      "source": [
        "import pandas as pd"
      ],
      "metadata": {
        "id": "FrXS7ZNSeBwY"
      },
      "execution_count": 6,
      "outputs": []
    },
    {
      "cell_type": "code",
      "source": [
        "class Classifier(nn.Module):\n",
        "  \n",
        "  def __init__(self):\n",
        "    super().__init__()\n",
        "    self.model = nn.Sequential(\n",
        "        nn.Linear(784,200),nn.LayerNorm(200),nn.LeakyReLU(0.02),nn.Linear(200,10),nn.Sigmoid()\n",
        "        )\n",
        "    self.loss_function = nn.BCELoss()\n",
        "    self.optimiser = torch.optim.Adam(self.parameters())\n",
        "    self.counter = 0\n",
        "    self.progress = []\n",
        "  \n",
        "  def forward(self,inputs):\n",
        "    return self.model(inputs)\n",
        "  \n",
        "  def train(self,inputs,targets):\n",
        "    outputs = self.forward(inputs)\n",
        "    loss = self.loss_function(outputs,targets)\n",
        "    self.optimiser.zero_grad()\n",
        "    loss.backward()\n",
        "    self.optimiser.step()\n",
        "    self.counter+=1\n",
        "    if(self.counter%10==0):\n",
        "      self.progress.append(loss.item())\n",
        "    if(self.counter%1000==0):\n",
        "      print(\"Counter : {}\".format(self.counter))\n",
        "  \n",
        "  def plot_progress(self):\n",
        "    df = pd.DataFrame(self.progress,columns = ['Loss'])\n",
        "    df.plot(ylim=(0,1.0),figsize=(16,8),alpha=0.1,marker='.',grid=True,yticks=(0,0.25,0.5))\n"
      ],
      "metadata": {
        "id": "TJRa3m4HYwfi"
      },
      "execution_count": 113,
      "outputs": []
    },
    {
      "cell_type": "code",
      "source": [
        "class MnistDataset(Dataset):\n",
        "  def __init__(self,csv_file):\n",
        "    self.data_df = pd.read_csv(csv_file,header=None)\n",
        "  \n",
        "  def __len__(self):\n",
        "    return len(self.data_df)\n",
        "\n",
        "  def __getitem__(self,index):\n",
        "    label=self.data_df.iloc[index,0]\n",
        "    target = torch.zeros((10))\n",
        "    target[label]=1.0\n",
        "    image_values = torch.FloatTensor(self.data_df.iloc[index,1:].values)/255.0\n",
        "    return label,image_values,target\n",
        "  \n",
        "  def plot_image(self,index):\n",
        "    arr = self.data_df.iloc[index,1:].values.reshape(28,28)\n",
        "    plt.title(\"Label : {}\".format(self.data_df.iloc[index,0]))\n",
        "    plt.imshow(arr,interpolation='none',cmap='Blues')\n",
        "\n"
      ],
      "metadata": {
        "id": "2lRT8lA3c6CQ"
      },
      "execution_count": 114,
      "outputs": []
    },
    {
      "cell_type": "code",
      "source": [
        "mnist_dataset = MnistDataset(\"/content/sample_data/mnist_train_small.csv\")"
      ],
      "metadata": {
        "id": "EXFxwS8Te11t"
      },
      "execution_count": 115,
      "outputs": []
    },
    {
      "cell_type": "code",
      "source": [
        "mnist_dataset.plot_image(100)"
      ],
      "metadata": {
        "colab": {
          "base_uri": "https://localhost:8080/",
          "height": 281
        },
        "id": "GGoIprJFe8Kx",
        "outputId": "0ad979c8-8245-493e-a361-1a61dc438925"
      },
      "execution_count": 116,
      "outputs": [
        {
          "output_type": "display_data",
          "data": {
            "text/plain": [
              "<Figure size 432x288 with 1 Axes>"
            ],
            "image/png": "[encoded data removed]"
          },
          "metadata": {
            "needs_background": "light"
          }
        }
      ]
    },
    {
      "cell_type": "code",
      "source": [
        "%%time\n",
        "\n",
        "c = Classifier()\n",
        "epochs = 3\n",
        "for i in range(epochs):\n",
        "  print('training epoch : {}/{}'.format(i+1,epochs))\n",
        "  for label,image_data_tensor,target_tensor in mnist_dataset:\n",
        "    c.train(image_data_tensor,target_tensor)\n"
      ],
      "metadata": {
        "colab": {
          "base_uri": "https://localhost:8080/"
        },
        "id": "vcNGtcQYfFYq",
        "outputId": "2186fd2b-18cd-4a7d-dca1-b898635e3b89"
      },
      "execution_count": 117,
      "outputs": [
        {
          "output_type": "stream",
          "name": "stdout",
          "text": [
            "training epoch : 1/3\n",
            "Counter : 1000\n",
            "Counter : 2000\n",
            "Counter : 3000\n",
            "Counter : 4000\n",
            "Counter : 5000\n",
            "Counter : 6000\n",
            "Counter : 7000\n",
            "Counter : 8000\n",
            "Counter : 9000\n",
            "Counter : 10000\n",
            "Counter : 11000\n",
            "Counter : 12000\n",
            "Counter : 13000\n",
            "Counter : 14000\n",
            "Counter : 15000\n",
            "Counter : 16000\n",
            "Counter : 17000\n",
            "Counter : 18000\n",
            "Counter : 19000\n",
            "Counter : 20000\n",
            "training epoch : 2/3\n",
            "Counter : 21000\n",
            "Counter : 22000\n",
            "Counter : 23000\n",
            "Counter : 24000\n",
            "Counter : 25000\n",
            "Counter : 26000\n",
            "Counter : 27000\n",
            "Counter : 28000\n",
            "Counter : 29000\n",
            "Counter : 30000\n",
            "Counter : 31000\n",
            "Counter : 32000\n",
            "Counter : 33000\n",
            "Counter : 34000\n",
            "Counter : 35000\n",
            "Counter : 36000\n",
            "Counter : 37000\n",
            "Counter : 38000\n",
            "Counter : 39000\n",
            "Counter : 40000\n",
            "training epoch : 3/3\n",
            "Counter : 41000\n",
            "Counter : 42000\n",
            "Counter : 43000\n",
            "Counter : 44000\n",
            "Counter : 45000\n",
            "Counter : 46000\n",
            "Counter : 47000\n",
            "Counter : 48000\n",
            "Counter : 49000\n",
            "Counter : 50000\n",
            "Counter : 51000\n",
            "Counter : 52000\n",
            "Counter : 53000\n",
            "Counter : 54000\n",
            "Counter : 55000\n",
            "Counter : 56000\n",
            "Counter : 57000\n",
            "Counter : 58000\n",
            "Counter : 59000\n",
            "Counter : 60000\n",
            "CPU times: user 3min 11s, sys: 1.75 s, total: 3min 13s\n",
            "Wall time: 3min 16s\n"
          ]
        }
      ]
    },
    {
      "cell_type": "code",
      "source": [
        "c.plot_progress()"
      ],
      "metadata": {
        "colab": {
          "base_uri": "https://localhost:8080/",
          "height": 483
        },
        "id": "U9M9UwRXfVKY",
        "outputId": "c4823080-2439-4f21-fd7b-ed6f10b0a513"
      },
      "execution_count": 118,
      "outputs": [
        {
          "output_type": "display_data",
          "data": {
            "text/plain": [
              "<Figure size 1152x576 with 1 Axes>"
            ],
            "image/png": "[encoded data removed]"
          },
          "metadata": {
            "needs_background": "light"
          }
        }
      ]
    },
    {
      "cell_type": "code",
      "source": [
        "mnist_test_dataset=MnistDataset(\"/content/sample_data/mnist_test.csv\")"
      ],
      "metadata": {
        "id": "AC7HLHw_hB9m"
      },
      "execution_count": 119,
      "outputs": []
    },
    {
      "cell_type": "code",
      "source": [
        "record = 25\n",
        "mnist_test_dataset.plot_image(record)"
      ],
      "metadata": {
        "colab": {
          "base_uri": "https://localhost:8080/",
          "height": 281
        },
        "id": "hdiMhnc1hSp8",
        "outputId": "1d6c1ce6-cbef-4e9d-eb81-7abdb7063fc4"
      },
      "execution_count": 120,
      "outputs": [
        {
          "output_type": "display_data",
          "data": {
            "text/plain": [
              "<Figure size 432x288 with 1 Axes>"
            ],
            "image/png": "[encoded data removed]"
          },
          "metadata": {
            "needs_background": "light"
          }
        }
      ]
    },
    {
      "cell_type": "code",
      "source": [
        "image_data = mnist_test_dataset[record][1]"
      ],
      "metadata": {
        "id": "q_hrPFnnhZQE"
      },
      "execution_count": 121,
      "outputs": []
    },
    {
      "cell_type": "code",
      "source": [
        "output = c.forward(image_data)"
      ],
      "metadata": {
        "id": "N5ZDuOfpzZ2I"
      },
      "execution_count": 122,
      "outputs": []
    },
    {
      "cell_type": "code",
      "source": [
        "pd.DataFrame(output.detach().numpy()).plot(kind='bar',ylim=(0,1))"
      ],
      "metadata": {
        "colab": {
          "base_uri": "https://localhost:8080/",
          "height": 284
        },
        "id": "aWWpSLY204t-",
        "outputId": "a2783d08-7ddb-431b-e271-e2a9e58d8d7e"
      },
      "execution_count": 123,
      "outputs": [
        {
          "output_type": "execute_result",
          "data": {
            "text/plain": [
              "<matplotlib.axes._subplots.AxesSubplot at 0x7f9449439b50>"
            ]
          },
          "metadata": {},
          "execution_count": 123
        },
        {
          "output_type": "display_data",
          "data": {
            "text/plain": [
              "<Figure size 432x288 with 1 Axes>"
            ],
            "image/png": "[encoded data removed]"
          },
          "metadata": {
            "needs_background": "light"
          }
        }
      ]
    },
    {
      "cell_type": "code",
      "source": [
        "score = 0\n",
        "items = 0\n",
        "for label,image_data_tensor,target_tensor in mnist_test_dataset:\n",
        "  answer = c.forward(image_data_tensor).detach().numpy()\n",
        "  if(answer.argmax()==label):\n",
        "    score+=1\n",
        "  items+=1\n",
        "\n",
        "print(score,items,score*100/items)"
      ],
      "metadata": {
        "colab": {
          "base_uri": "https://localhost:8080/"
        },
        "id": "Qi17iSFL1BUO",
        "outputId": "e67e194d-4ce1-4a78-cc7e-a1dc3cbdddd8"
      },
      "execution_count": 124,
      "outputs": [
        {
          "output_type": "stream",
          "name": "stdout",
          "text": [
            "9644 10000 96.44\n"
          ]
        }
      ]
    },
    {
      "cell_type": "code",
      "source": [
        ""
      ],
      "metadata": {
        "id": "N9Da738d1t2S"
      },
      "execution_count": null,
      "outputs": []
    }
  ]
}