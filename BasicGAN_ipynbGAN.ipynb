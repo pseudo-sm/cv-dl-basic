{
  "nbformat": 4,
  "nbformat_minor": 0,
  "metadata": {
    "colab": {
      "name": "BasicGAN.ipynbGAN",
      "provenance": [],
      "collapsed_sections": [],
      "authorship_tag": "ABX9TyOHQFfS2PtIxPWGUjR77LXD",
      "include_colab_link": true
    },
    "kernelspec": {
      "name": "python3",
      "display_name": "Python 3"
    },
    "language_info": {
      "name": "python"
    },
    "accelerator": "GPU",
    "gpuClass": "standard"
  },
  "cells": [
    {
      "cell_type": "markdown",
      "metadata": {
        "id": "view-in-github",
        "colab_type": "text"
      },
      "source": [
        "<a href=\"https://colab.research.google.com/github/pseudo-sm/cv-dl-basic/blob/master/BasicGAN_ipynbGAN.ipynb\" target=\"_parent\"><img src=\"https://colab.research.google.com/assets/colab-badge.svg\" alt=\"Open In Colab\"/></a>"
      ]
    },
    {
      "cell_type": "code",
      "execution_count": 12,
      "metadata": {
        "id": "mQW45m2YGJu_"
      },
      "outputs": [],
      "source": [
        "import torch\n",
        "from torch.nn import Module\n",
        "from torch import nn"
      ]
    },
    {
      "cell_type": "code",
      "source": [
        "from numpy import random\n",
        "import pandas as pd"
      ],
      "metadata": {
        "id": "3HJhVAR6KkGk"
      },
      "execution_count": 13,
      "outputs": []
    },
    {
      "cell_type": "code",
      "source": [
        "if torch.cuda.is_available():\n",
        "  torch.set_default_tensor_type(torch.cuda.FloatTensor)\n",
        "  print('using cuda : ',torch.cuda.get_device_name(0))\n",
        "\n",
        "device = torch.device('cuda' if torch.cuda.is_available() else 'cpu')"
      ],
      "metadata": {
        "colab": {
          "base_uri": "https://localhost:8080/"
        },
        "id": "LN0OKI0oGdVR",
        "outputId": "1d1f2ea4-57f7-4b08-8aa2-6828ddebdf3e"
      },
      "execution_count": null,
      "outputs": [
        {
          "output_type": "stream",
          "name": "stdout",
          "text": [
            "using cuda :  Tesla T4\n"
          ]
        }
      ]
    },
    {
      "cell_type": "code",
      "source": [
        "device"
      ],
      "metadata": {
        "id": "vG_fOAX4Gt_J",
        "outputId": "12a8a014-3e4c-42aa-969d-dc97fe9e5bca",
        "colab": {
          "base_uri": "https://localhost:8080/"
        }
      },
      "execution_count": null,
      "outputs": [
        {
          "output_type": "execute_result",
          "data": {
            "text/plain": [
              "device(type='cuda')"
            ]
          },
          "metadata": {},
          "execution_count": 3
        }
      ]
    },
    {
      "cell_type": "code",
      "source": [
        "def generate_real():\n",
        "\n",
        "  tensor = torch.FloatTensor([random.uniform(0.2,0.8),random.uniform(0.0,0.2),random.uniform(0.2,0.8),random.uniform(0.0,0.2)])\n",
        "  return tensor"
      ],
      "metadata": {
        "id": "E-kSMGqMGu23"
      },
      "execution_count": 8,
      "outputs": []
    },
    {
      "cell_type": "code",
      "source": [
        "def generate_random():\n",
        "  tensor = torch.rand(4)\n",
        "  return tensor"
      ],
      "metadata": {
        "id": "jY_KLnxmKWc2"
      },
      "execution_count": 9,
      "outputs": []
    },
    {
      "cell_type": "code",
      "source": [
        "class Descriminator(nn.Module):\n",
        "  \n",
        "  def __init__(self):\n",
        "    super().__init__()\n",
        "    self.model = nn.Sequential(\n",
        "        nn.Linear(4,3),nn.Sigmoid(),nn.Linear(3,1),nn.Sigmoid()\n",
        "        )\n",
        "    self.loss_function = nn.MSELoss()\n",
        "    self.optimiser = torch.optim.SGD(self.parameters(),lr=0.02)\n",
        "    self.counter = 0\n",
        "    self.progress = []\n",
        "  \n",
        "  def forward(self,inputs):\n",
        "    return self.model(inputs)\n",
        "  \n",
        "  def train(self,inputs,targets):\n",
        "    outputs = self.forward(inputs)\n",
        "    loss = self.loss_function(outputs,targets)\n",
        "    self.optimiser.zero_grad()\n",
        "    loss.backward()\n",
        "    self.optimiser.step()\n",
        "    self.counter+=1\n",
        "    if(self.counter%10==0):\n",
        "      self.progress.append(loss.item())\n",
        "    if(self.counter%1000==0):\n",
        "      print(\"Counter : {}\".format(self.counter))\n",
        "  \n",
        "  def plot_progress(self):\n",
        "    df = pd.DataFrame(self.progress,columns = ['Loss'])\n",
        "    df.plot(ylim=(0,1.0),figsize=(16,8),alpha=0.1,marker='.',grid=True,yticks=(0,0.25,0.5))\n"
      ],
      "metadata": {
        "id": "Y0LWk8x6LFgx"
      },
      "execution_count": 53,
      "outputs": []
    },
    {
      "cell_type": "code",
      "source": [
        "d = Descriminator()"
      ],
      "metadata": {
        "id": "fIWFBA8IN5Rm"
      },
      "execution_count": 51,
      "outputs": []
    },
    {
      "cell_type": "code",
      "source": [
        "for i in range(10000):\n",
        "  d.train(generate_real(),torch.FloatTensor([1.0]))\n",
        "  d.train(generate_random(),torch.FloatTensor([0.0]))"
      ],
      "metadata": {
        "colab": {
          "base_uri": "https://localhost:8080/",
          "height": 594
        },
        "id": "m_wm5l5aN7RX",
        "outputId": "bf9ccaa7-1592-4fdd-e554-bbeea8bc3d21"
      },
      "execution_count": 52,
      "outputs": [
        {
          "output_type": "stream",
          "name": "stdout",
          "text": [
            "Counter : 1000\n",
            "Counter : 2000\n",
            "Counter : 3000\n",
            "Counter : 4000\n",
            "Counter : 5000\n",
            "Counter : 6000\n",
            "Counter : 7000\n",
            "Counter : 8000\n",
            "Counter : 9000\n",
            "Counter : 10000\n",
            "Counter : 11000\n",
            "Counter : 12000\n",
            "Counter : 13000\n"
          ]
        },
        {
          "output_type": "error",
          "ename": "KeyboardInterrupt",
          "evalue": "ignored",
          "traceback": [
            "\u001b[0;31m---------------------------------------------------------------------------\u001b[0m",
            "\u001b[0;31mKeyboardInterrupt\u001b[0m                         Traceback (most recent call last)",
            "\u001b[0;32m<ipython-input-52-edb1e4c3470b>\u001b[0m in \u001b[0;36m<module>\u001b[0;34m()\u001b[0m\n\u001b[1;32m      1\u001b[0m \u001b[0;32mfor\u001b[0m \u001b[0mi\u001b[0m \u001b[0;32min\u001b[0m \u001b[0mrange\u001b[0m\u001b[0;34m(\u001b[0m\u001b[0;36m10000\u001b[0m\u001b[0;34m)\u001b[0m\u001b[0;34m:\u001b[0m\u001b[0;34m\u001b[0m\u001b[0;34m\u001b[0m\u001b[0m\n\u001b[0;32m----> 2\u001b[0;31m   \u001b[0md\u001b[0m\u001b[0;34m.\u001b[0m\u001b[0mtrain\u001b[0m\u001b[0;34m(\u001b[0m\u001b[0mgenerate_real\u001b[0m\u001b[0;34m(\u001b[0m\u001b[0;34m)\u001b[0m\u001b[0;34m,\u001b[0m\u001b[0mtorch\u001b[0m\u001b[0;34m.\u001b[0m\u001b[0mFloatTensor\u001b[0m\u001b[0;34m(\u001b[0m\u001b[0;34m[\u001b[0m\u001b[0;36m1.0\u001b[0m\u001b[0;34m]\u001b[0m\u001b[0;34m)\u001b[0m\u001b[0;34m)\u001b[0m\u001b[0;34m\u001b[0m\u001b[0;34m\u001b[0m\u001b[0m\n\u001b[0m\u001b[1;32m      3\u001b[0m   \u001b[0md\u001b[0m\u001b[0;34m.\u001b[0m\u001b[0mtrain\u001b[0m\u001b[0;34m(\u001b[0m\u001b[0mgenerate_random\u001b[0m\u001b[0;34m(\u001b[0m\u001b[0;34m)\u001b[0m\u001b[0;34m,\u001b[0m\u001b[0mtorch\u001b[0m\u001b[0;34m.\u001b[0m\u001b[0mFloatTensor\u001b[0m\u001b[0;34m(\u001b[0m\u001b[0;34m[\u001b[0m\u001b[0;36m0.0\u001b[0m\u001b[0;34m]\u001b[0m\u001b[0;34m)\u001b[0m\u001b[0;34m)\u001b[0m\u001b[0;34m\u001b[0m\u001b[0;34m\u001b[0m\u001b[0m\n",
            "\u001b[0;32m<ipython-input-50-3662ccef7948>\u001b[0m in \u001b[0;36mtrain\u001b[0;34m(self, inputs, targets)\u001b[0m\n\u001b[1;32m     19\u001b[0m     \u001b[0mself\u001b[0m\u001b[0;34m.\u001b[0m\u001b[0moptimiser\u001b[0m\u001b[0;34m.\u001b[0m\u001b[0mzero_grad\u001b[0m\u001b[0;34m(\u001b[0m\u001b[0;34m)\u001b[0m\u001b[0;34m\u001b[0m\u001b[0;34m\u001b[0m\u001b[0m\n\u001b[1;32m     20\u001b[0m     \u001b[0mloss\u001b[0m\u001b[0;34m.\u001b[0m\u001b[0mbackward\u001b[0m\u001b[0;34m(\u001b[0m\u001b[0;34m)\u001b[0m\u001b[0;34m\u001b[0m\u001b[0;34m\u001b[0m\u001b[0m\n\u001b[0;32m---> 21\u001b[0;31m     \u001b[0mself\u001b[0m\u001b[0;34m.\u001b[0m\u001b[0moptimiser\u001b[0m\u001b[0;34m.\u001b[0m\u001b[0mstep\u001b[0m\u001b[0;34m(\u001b[0m\u001b[0;34m)\u001b[0m\u001b[0;34m\u001b[0m\u001b[0;34m\u001b[0m\u001b[0m\n\u001b[0m\u001b[1;32m     22\u001b[0m     \u001b[0mself\u001b[0m\u001b[0;34m.\u001b[0m\u001b[0mcounter\u001b[0m\u001b[0;34m+=\u001b[0m\u001b[0;36m1\u001b[0m\u001b[0;34m\u001b[0m\u001b[0;34m\u001b[0m\u001b[0m\n\u001b[1;32m     23\u001b[0m     \u001b[0;32mif\u001b[0m\u001b[0;34m(\u001b[0m\u001b[0mself\u001b[0m\u001b[0;34m.\u001b[0m\u001b[0mcounter\u001b[0m\u001b[0;34m%\u001b[0m\u001b[0;36m10\u001b[0m\u001b[0;34m==\u001b[0m\u001b[0;36m0\u001b[0m\u001b[0;34m)\u001b[0m\u001b[0;34m:\u001b[0m\u001b[0;34m\u001b[0m\u001b[0;34m\u001b[0m\u001b[0m\n",
            "\u001b[0;32m/usr/local/lib/python3.7/dist-packages/torch/optim/optimizer.py\u001b[0m in \u001b[0;36mwrapper\u001b[0;34m(*args, **kwargs)\u001b[0m\n\u001b[1;32m    107\u001b[0m                 \u001b[0mprofile_name\u001b[0m \u001b[0;34m=\u001b[0m \u001b[0;34m\"Optimizer.step#{}.step\"\u001b[0m\u001b[0;34m.\u001b[0m\u001b[0mformat\u001b[0m\u001b[0;34m(\u001b[0m\u001b[0mobj\u001b[0m\u001b[0;34m.\u001b[0m\u001b[0m__class__\u001b[0m\u001b[0;34m.\u001b[0m\u001b[0m__name__\u001b[0m\u001b[0;34m)\u001b[0m\u001b[0;34m\u001b[0m\u001b[0;34m\u001b[0m\u001b[0m\n\u001b[1;32m    108\u001b[0m                 \u001b[0;32mwith\u001b[0m \u001b[0mtorch\u001b[0m\u001b[0;34m.\u001b[0m\u001b[0mautograd\u001b[0m\u001b[0;34m.\u001b[0m\u001b[0mprofiler\u001b[0m\u001b[0;34m.\u001b[0m\u001b[0mrecord_function\u001b[0m\u001b[0;34m(\u001b[0m\u001b[0mprofile_name\u001b[0m\u001b[0;34m)\u001b[0m\u001b[0;34m:\u001b[0m\u001b[0;34m\u001b[0m\u001b[0;34m\u001b[0m\u001b[0m\n\u001b[0;32m--> 109\u001b[0;31m                     \u001b[0;32mreturn\u001b[0m \u001b[0mfunc\u001b[0m\u001b[0;34m(\u001b[0m\u001b[0;34m*\u001b[0m\u001b[0margs\u001b[0m\u001b[0;34m,\u001b[0m \u001b[0;34m**\u001b[0m\u001b[0mkwargs\u001b[0m\u001b[0;34m)\u001b[0m\u001b[0;34m\u001b[0m\u001b[0;34m\u001b[0m\u001b[0m\n\u001b[0m\u001b[1;32m    110\u001b[0m             \u001b[0;32mreturn\u001b[0m \u001b[0mwrapper\u001b[0m\u001b[0;34m\u001b[0m\u001b[0;34m\u001b[0m\u001b[0m\n\u001b[1;32m    111\u001b[0m \u001b[0;34m\u001b[0m\u001b[0m\n",
            "\u001b[0;32m/usr/local/lib/python3.7/dist-packages/torch/autograd/grad_mode.py\u001b[0m in \u001b[0;36mdecorate_context\u001b[0;34m(*args, **kwargs)\u001b[0m\n\u001b[1;32m     25\u001b[0m         \u001b[0;32mdef\u001b[0m \u001b[0mdecorate_context\u001b[0m\u001b[0;34m(\u001b[0m\u001b[0;34m*\u001b[0m\u001b[0margs\u001b[0m\u001b[0;34m,\u001b[0m \u001b[0;34m**\u001b[0m\u001b[0mkwargs\u001b[0m\u001b[0;34m)\u001b[0m\u001b[0;34m:\u001b[0m\u001b[0;34m\u001b[0m\u001b[0;34m\u001b[0m\u001b[0m\n\u001b[1;32m     26\u001b[0m             \u001b[0;32mwith\u001b[0m \u001b[0mself\u001b[0m\u001b[0;34m.\u001b[0m\u001b[0mclone\u001b[0m\u001b[0;34m(\u001b[0m\u001b[0;34m)\u001b[0m\u001b[0;34m:\u001b[0m\u001b[0;34m\u001b[0m\u001b[0;34m\u001b[0m\u001b[0m\n\u001b[0;32m---> 27\u001b[0;31m                 \u001b[0;32mreturn\u001b[0m \u001b[0mfunc\u001b[0m\u001b[0;34m(\u001b[0m\u001b[0;34m*\u001b[0m\u001b[0margs\u001b[0m\u001b[0;34m,\u001b[0m \u001b[0;34m**\u001b[0m\u001b[0mkwargs\u001b[0m\u001b[0;34m)\u001b[0m\u001b[0;34m\u001b[0m\u001b[0;34m\u001b[0m\u001b[0m\n\u001b[0m\u001b[1;32m     28\u001b[0m         \u001b[0;32mreturn\u001b[0m \u001b[0mcast\u001b[0m\u001b[0;34m(\u001b[0m\u001b[0mF\u001b[0m\u001b[0;34m,\u001b[0m \u001b[0mdecorate_context\u001b[0m\u001b[0;34m)\u001b[0m\u001b[0;34m\u001b[0m\u001b[0;34m\u001b[0m\u001b[0m\n\u001b[1;32m     29\u001b[0m \u001b[0;34m\u001b[0m\u001b[0m\n",
            "\u001b[0;32m/usr/local/lib/python3.7/dist-packages/torch/optim/sgd.py\u001b[0m in \u001b[0;36mstep\u001b[0;34m(self, closure)\u001b[0m\n\u001b[1;32m    134\u001b[0m                 \u001b[0;32mif\u001b[0m \u001b[0mp\u001b[0m\u001b[0;34m.\u001b[0m\u001b[0mgrad\u001b[0m \u001b[0;32mis\u001b[0m \u001b[0;32mnot\u001b[0m \u001b[0;32mNone\u001b[0m\u001b[0;34m:\u001b[0m\u001b[0;34m\u001b[0m\u001b[0;34m\u001b[0m\u001b[0m\n\u001b[1;32m    135\u001b[0m                     \u001b[0mparams_with_grad\u001b[0m\u001b[0;34m.\u001b[0m\u001b[0mappend\u001b[0m\u001b[0;34m(\u001b[0m\u001b[0mp\u001b[0m\u001b[0;34m)\u001b[0m\u001b[0;34m\u001b[0m\u001b[0;34m\u001b[0m\u001b[0m\n\u001b[0;32m--> 136\u001b[0;31m                     \u001b[0md_p_list\u001b[0m\u001b[0;34m.\u001b[0m\u001b[0mappend\u001b[0m\u001b[0;34m(\u001b[0m\u001b[0mp\u001b[0m\u001b[0;34m.\u001b[0m\u001b[0mgrad\u001b[0m\u001b[0;34m)\u001b[0m\u001b[0;34m\u001b[0m\u001b[0;34m\u001b[0m\u001b[0m\n\u001b[0m\u001b[1;32m    137\u001b[0m                     \u001b[0;32mif\u001b[0m \u001b[0mp\u001b[0m\u001b[0;34m.\u001b[0m\u001b[0mgrad\u001b[0m\u001b[0;34m.\u001b[0m\u001b[0mis_sparse\u001b[0m\u001b[0;34m:\u001b[0m\u001b[0;34m\u001b[0m\u001b[0;34m\u001b[0m\u001b[0m\n\u001b[1;32m    138\u001b[0m                         \u001b[0mhas_sparse_grad\u001b[0m \u001b[0;34m=\u001b[0m \u001b[0;32mTrue\u001b[0m\u001b[0;34m\u001b[0m\u001b[0;34m\u001b[0m\u001b[0m\n",
            "\u001b[0;31mKeyboardInterrupt\u001b[0m: "
          ]
        }
      ]
    },
    {
      "cell_type": "code",
      "source": [
        "d.plot_progress()"
      ],
      "metadata": {
        "colab": {
          "base_uri": "https://localhost:8080/",
          "height": 483
        },
        "id": "SuEXuKrtO6Im",
        "outputId": "dded8860-9fc0-4d08-f58e-35796230f510"
      },
      "execution_count": 26,
      "outputs": [
        {
          "output_type": "display_data",
          "data": {
            "text/plain": [
              "<Figure size 1152x576 with 1 Axes>"
            ],
            "image/png": "[encoded data removed]"
          },
          "metadata": {
            "needs_background": "light"
          }
        }
      ]
    },
    {
      "cell_type": "code",
      "source": [
        "print(d.forward(generate_real()))"
      ],
      "metadata": {
        "colab": {
          "base_uri": "https://localhost:8080/"
        },
        "id": "n0oyszYgY01J",
        "outputId": "ef3d111b-eeb3-4e40-aaa8-b29430044742"
      },
      "execution_count": 28,
      "outputs": [
        {
          "output_type": "stream",
          "name": "stdout",
          "text": [
            "tensor([0.9616], grad_fn=<SigmoidBackward0>)\n"
          ]
        }
      ]
    },
    {
      "cell_type": "code",
      "source": [
        "print(d.forward(generate_random()))"
      ],
      "metadata": {
        "colab": {
          "base_uri": "https://localhost:8080/"
        },
        "id": "R9X-IkUGZFzb",
        "outputId": "19ba1bab-b26b-44c3-8113-adb4dd4f3413"
      },
      "execution_count": 29,
      "outputs": [
        {
          "output_type": "stream",
          "name": "stdout",
          "text": [
            "tensor([0.0041], grad_fn=<SigmoidBackward0>)\n"
          ]
        }
      ]
    },
    {
      "cell_type": "code",
      "source": [
        "class Generator(nn.Module):\n",
        "  \n",
        "  def __init__(self):\n",
        "    super().__init__()\n",
        "    self.model = nn.Sequential(\n",
        "        nn.Linear(1,3),nn.Sigmoid(),nn.Linear(3,4),nn.Sigmoid()\n",
        "        )\n",
        "    self.loss_function = nn.MSELoss()\n",
        "    self.optimiser = torch.optim.SGD(self.parameters(),lr=0.01)\n",
        "    self.counter = 0\n",
        "    self.progress = []\n",
        "  \n",
        "  def forward(self,inputs):\n",
        "    return self.model(inputs)\n",
        "  \n",
        "  def train(self,D,inputs,targets):\n",
        "    g_output = self.forward(inputs)\n",
        "    d_output = D.forward(g_output)\n",
        "    loss = D.loss_function(d_output,targets)\n",
        "    self.optimiser.zero_grad()\n",
        "    loss.backward()\n",
        "    self.optimiser.step()\n",
        "    self.counter+=1\n",
        "    if(self.counter%10==0):\n",
        "      self.progress.append(loss.item())\n",
        "    if(self.counter%1000==0):\n",
        "      print(\"Counter : {}\".format(self.counter))\n",
        "  \n",
        "  def plot_progress(self):\n",
        "    df = pd.DataFrame(self.progress,columns = ['Loss'])\n",
        "    df.plot(ylim=(0,1.0),figsize=(16,8),alpha=0.1,marker='.',grid=True,yticks=(0,0.25,0.5))\n"
      ],
      "metadata": {
        "id": "GrLG-eI5Zcwj"
      },
      "execution_count": 54,
      "outputs": []
    },
    {
      "cell_type": "code",
      "source": [
        "g = Generator()"
      ],
      "metadata": {
        "id": "fu-sXYDyaUVM"
      },
      "execution_count": 55,
      "outputs": []
    },
    {
      "cell_type": "code",
      "source": [
        "g.forward(torch.FloatTensor([0.5]))"
      ],
      "metadata": {
        "colab": {
          "base_uri": "https://localhost:8080/"
        },
        "id": "lAnUOrRwaVph",
        "outputId": "3b74c698-e02c-4d33-83d4-290a678bec7d"
      },
      "execution_count": 56,
      "outputs": [
        {
          "output_type": "execute_result",
          "data": {
            "text/plain": [
              "tensor([0.5344, 0.3613, 0.3261, 0.3747], grad_fn=<SigmoidBackward0>)"
            ]
          },
          "metadata": {},
          "execution_count": 56
        }
      ]
    },
    {
      "cell_type": "code",
      "source": [
        "D = Descriminator()\n",
        "G = Generator()"
      ],
      "metadata": {
        "id": "WiI3ep9Gacrk"
      },
      "execution_count": 57,
      "outputs": []
    },
    {
      "cell_type": "code",
      "source": [
        "%%timeit\n",
        "for i in range(10000):\n",
        "  D.train(generate_real(),torch.FloatTensor([1.0]))\n",
        "  D.train(G.forward(torch.FloatTensor([0.5])).detach(),torch.FloatTensor([0.0]))\n",
        "  G.train(D,torch.FloatTensor([0.5]),torch.FloatTensor([1.0]))"
      ],
      "metadata": {
        "colab": {
          "base_uri": "https://localhost:8080/"
        },
        "id": "a1vrayiaaopo",
        "outputId": "59dbed8a-0df9-4182-c690-72295bce2439"
      },
      "execution_count": 63,
      "outputs": [
        {
          "output_type": "stream",
          "name": "stdout",
          "text": [
            "Counter : 21000\n",
            "Counter : 22000\n",
            "Counter : 11000\n",
            "Counter : 23000\n",
            "Counter : 24000\n",
            "Counter : 12000\n",
            "Counter : 25000\n",
            "Counter : 26000\n",
            "Counter : 13000\n",
            "Counter : 27000\n",
            "Counter : 28000\n",
            "Counter : 14000\n",
            "Counter : 29000\n",
            "Counter : 30000\n",
            "Counter : 15000\n",
            "Counter : 31000\n",
            "Counter : 32000\n",
            "Counter : 16000\n",
            "Counter : 33000\n",
            "Counter : 34000\n",
            "Counter : 17000\n",
            "Counter : 35000\n",
            "Counter : 36000\n",
            "Counter : 18000\n",
            "Counter : 37000\n",
            "Counter : 38000\n",
            "Counter : 19000\n",
            "Counter : 39000\n",
            "Counter : 40000\n",
            "Counter : 20000\n",
            "Counter : 41000\n",
            "Counter : 42000\n",
            "Counter : 21000\n",
            "Counter : 43000\n",
            "Counter : 44000\n",
            "Counter : 22000\n",
            "Counter : 45000\n",
            "Counter : 46000\n",
            "Counter : 23000\n",
            "Counter : 47000\n",
            "Counter : 48000\n",
            "Counter : 24000\n",
            "Counter : 49000\n",
            "Counter : 50000\n",
            "Counter : 25000\n",
            "Counter : 51000\n",
            "Counter : 52000\n",
            "Counter : 26000\n",
            "Counter : 53000\n",
            "Counter : 54000\n",
            "Counter : 27000\n",
            "Counter : 55000\n",
            "Counter : 56000\n",
            "Counter : 28000\n",
            "Counter : 57000\n",
            "Counter : 58000\n",
            "Counter : 29000\n",
            "Counter : 59000\n",
            "Counter : 60000\n",
            "Counter : 30000\n",
            "Counter : 61000\n",
            "Counter : 62000\n",
            "Counter : 31000\n",
            "Counter : 63000\n",
            "Counter : 64000\n",
            "Counter : 32000\n",
            "Counter : 65000\n",
            "Counter : 66000\n",
            "Counter : 33000\n",
            "Counter : 67000\n",
            "Counter : 68000\n",
            "Counter : 34000\n",
            "Counter : 69000\n",
            "Counter : 70000\n",
            "Counter : 35000\n",
            "Counter : 71000\n",
            "Counter : 72000\n",
            "Counter : 36000\n",
            "Counter : 73000\n",
            "Counter : 74000\n",
            "Counter : 37000\n",
            "Counter : 75000\n",
            "Counter : 76000\n",
            "Counter : 38000\n",
            "Counter : 77000\n",
            "Counter : 78000\n",
            "Counter : 39000\n",
            "Counter : 79000\n",
            "Counter : 80000\n",
            "Counter : 40000\n",
            "Counter : 81000\n",
            "Counter : 82000\n",
            "Counter : 41000\n",
            "Counter : 83000\n",
            "Counter : 84000\n",
            "Counter : 42000\n",
            "Counter : 85000\n",
            "Counter : 86000\n",
            "Counter : 43000\n",
            "Counter : 87000\n",
            "Counter : 88000\n",
            "Counter : 44000\n",
            "Counter : 89000\n",
            "Counter : 90000\n",
            "Counter : 45000\n",
            "Counter : 91000\n",
            "Counter : 92000\n",
            "Counter : 46000\n",
            "Counter : 93000\n",
            "Counter : 94000\n",
            "Counter : 47000\n",
            "Counter : 95000\n",
            "Counter : 96000\n",
            "Counter : 48000\n",
            "Counter : 97000\n",
            "Counter : 98000\n",
            "Counter : 49000\n",
            "Counter : 99000\n",
            "Counter : 100000\n",
            "Counter : 50000\n",
            "Counter : 101000\n",
            "Counter : 102000\n",
            "Counter : 51000\n",
            "Counter : 103000\n",
            "Counter : 104000\n",
            "Counter : 52000\n",
            "Counter : 105000\n",
            "Counter : 106000\n",
            "Counter : 53000\n",
            "Counter : 107000\n",
            "Counter : 108000\n",
            "Counter : 54000\n",
            "Counter : 109000\n",
            "Counter : 110000\n",
            "Counter : 55000\n",
            "Counter : 111000\n",
            "Counter : 112000\n",
            "Counter : 56000\n",
            "Counter : 113000\n",
            "Counter : 114000\n",
            "Counter : 57000\n",
            "Counter : 115000\n",
            "Counter : 116000\n",
            "Counter : 58000\n",
            "Counter : 117000\n",
            "Counter : 118000\n",
            "Counter : 59000\n",
            "Counter : 119000\n",
            "Counter : 120000\n",
            "Counter : 60000\n",
            "Counter : 121000\n",
            "Counter : 122000\n",
            "Counter : 61000\n",
            "Counter : 123000\n",
            "Counter : 124000\n",
            "Counter : 62000\n",
            "Counter : 125000\n",
            "Counter : 126000\n",
            "Counter : 63000\n",
            "Counter : 127000\n",
            "Counter : 128000\n",
            "Counter : 64000\n",
            "Counter : 129000\n",
            "Counter : 130000\n",
            "Counter : 65000\n",
            "Counter : 131000\n",
            "Counter : 132000\n",
            "Counter : 66000\n",
            "Counter : 133000\n",
            "Counter : 134000\n",
            "Counter : 67000\n",
            "Counter : 135000\n",
            "Counter : 136000\n",
            "Counter : 68000\n",
            "Counter : 137000\n",
            "Counter : 138000\n",
            "Counter : 69000\n",
            "Counter : 139000\n",
            "Counter : 140000\n",
            "Counter : 70000\n",
            "1 loop, best of 5: 12.7 s per loop\n"
          ]
        }
      ]
    },
    {
      "cell_type": "code",
      "source": [
        "D.plot_progress()"
      ],
      "metadata": {
        "colab": {
          "base_uri": "https://localhost:8080/",
          "height": 483
        },
        "id": "45ushMH4bGMj",
        "outputId": "47f12d56-7540-46d3-8b11-4c823aa3a14d"
      },
      "execution_count": 64,
      "outputs": [
        {
          "output_type": "display_data",
          "data": {
            "text/plain": [
              "<Figure size 1152x576 with 1 Axes>"
            ],
            "image/png": "[encoded data removed]"
          },
          "metadata": {
            "needs_background": "light"
          }
        }
      ]
    },
    {
      "cell_type": "code",
      "source": [
        "G.plot_progress()"
      ],
      "metadata": {
        "colab": {
          "base_uri": "https://localhost:8080/",
          "height": 483
        },
        "id": "g6SOeSmIbksZ",
        "outputId": "290ac00d-b6ff-441e-9ea4-65f86317bd65"
      },
      "execution_count": 65,
      "outputs": [
        {
          "output_type": "display_data",
          "data": {
            "text/plain": [
              "<Figure size 1152x576 with 1 Axes>"
            ],
            "image/png": "[encoded data removed]"
          },
          "metadata": {
            "needs_background": "light"
          }
        }
      ]
    },
    {
      "cell_type": "code",
      "source": [
        "G.forward(torch.FloatTensor([0.5]))"
      ],
      "metadata": {
        "colab": {
          "base_uri": "https://localhost:8080/"
        },
        "id": "dO1tR4R1dcuj",
        "outputId": "0bfc62e3-0d02-495b-9589-b8ca0e4ebfa6"
      },
      "execution_count": 68,
      "outputs": [
        {
          "output_type": "execute_result",
          "data": {
            "text/plain": [
              "tensor([0.4348, 0.0334, 0.5941, 0.0350], grad_fn=<SigmoidBackward0>)"
            ]
          },
          "metadata": {},
          "execution_count": 68
        }
      ]
    },
    {
      "cell_type": "code",
      "source": [
        ""
      ],
      "metadata": {
        "id": "TCgWpTr3d2ga"
      },
      "execution_count": 66,
      "outputs": []
    }
  ]
}